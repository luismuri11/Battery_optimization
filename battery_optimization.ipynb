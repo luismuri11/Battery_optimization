{
 "cells": [
  {
   "cell_type": "markdown",
   "metadata": {},
   "source": [
    "# Battery Fast-Charging Optimization"
   ]
  },
  {
   "cell_type": "markdown",
   "metadata": {},
   "source": [
    "1. Import the necessary libraries in Pytorch"
   ]
  },
  {
   "cell_type": "code",
   "execution_count": 1,
   "metadata": {},
   "outputs": [],
   "source": [
    "#Import libraries\n",
    "\n",
    "import torch\n",
    "import torch.nn as nn\n",
    "import torch.optim as optim\n",
    "import numpy as np\n",
    "import matplotlib.pyplot as plt"
   ]
  },
  {
   "cell_type": "markdown",
   "metadata": {},
   "source": [
    "2. Import the experimental data to use as training data for the ANN. In `input_data_save.txt`, the first column represents the porosity of the anode, and the second column represents the porosity of the cathode. In \n",
    "`cap_data_save.txt`, the first column contains the battery areal capacity."
   ]
  },
  {
   "cell_type": "code",
   "execution_count": 2,
   "metadata": {},
   "outputs": [],
   "source": [
    "#Import the experimental data\n",
    "input_data_raw1 = np.loadtxt('data/input_data_save.txt')\n",
    "cap_data_raw1 = np.loadtxt('data/cap_data_save.txt') "
   ]
  },
  {
   "cell_type": "code",
   "execution_count": 3,
   "metadata": {},
   "outputs": [
    {
     "data": {
      "text/plain": [
       "array([18.76968 , 16.126228, 16.950027, 16.344672, 18.447988])"
      ]
     },
     "execution_count": 3,
     "metadata": {},
     "output_type": "execute_result"
    }
   ],
   "source": [
    "cap_data_raw1[:5]"
   ]
  },
  {
   "cell_type": "code",
   "execution_count": 4,
   "metadata": {},
   "outputs": [
    {
     "data": {
      "text/plain": [
       "array([[0.61662566, 0.53994316],\n",
       "       [0.65760637, 0.42037422],\n",
       "       [0.30714407, 0.61521121],\n",
       "       [0.66101914, 0.48977151],\n",
       "       [0.53456166, 0.4078272 ]])"
      ]
     },
     "execution_count": 4,
     "metadata": {},
     "output_type": "execute_result"
    }
   ],
   "source": [
    "input_data_raw1[:5]"
   ]
  },
  {
   "cell_type": "markdown",
   "metadata": {},
   "source": [
    "3. Convert the training data to PyTorch tensor format."
   ]
  },
  {
   "cell_type": "code",
   "execution_count": 5,
   "metadata": {},
   "outputs": [],
   "source": [
    "# Convert the training data to PyTorch tensors\n",
    "X_train_tensor_raw = torch.tensor(input_data_raw1, dtype=torch.float32)\n",
    "y_train_tensor_raw = torch.tensor(cap_data_raw1, dtype=torch.float32)"
   ]
  },
  {
   "cell_type": "markdown",
   "metadata": {},
   "source": [
    "4. Normalize the training data to ensure that the values are within the range [0, 1]."
   ]
  },
  {
   "cell_type": "code",
   "execution_count": 6,
   "metadata": {},
   "outputs": [],
   "source": [
    "def normalize_tensor(tensor, max_val, min_val):\n",
    "    return (tensor-min_val)/(max_val-min_val)\n",
    "\n",
    "X_train_epsneg_raw1 = X_train_tensor_raw[:,0]\n",
    "X_train_epspos_raw1 = X_train_tensor_raw[:,1]\n",
    "\n",
    "max_epsneg = torch.max(X_train_epsneg_raw1)\n",
    "min_epsneg = torch.min(X_train_epsneg_raw1)\n",
    "\n",
    "max_epspos = torch.max(X_train_epspos_raw1)\n",
    "min_epspos = torch.min(X_train_epspos_raw1)\n",
    "\n",
    "X_train_epsneg_norm1 = normalize_tensor(X_train_epsneg_raw1, max_epsneg, min_epsneg)\n",
    "X_train_epspos_norm1 = normalize_tensor(X_train_epspos_raw1, max_epspos, min_epspos)\n",
    "X_train = torch.stack((X_train_epsneg_norm1, X_train_epspos_raw1), dim=1)\n",
    "\n",
    "y_train_tensor = y_train_tensor_raw\n",
    "max_y = torch.max(y_train_tensor)\n",
    "min_y = torch.min(y_train_tensor)\n",
    "y_train_norm = normalize_tensor(y_train_tensor, max_y, min_y)\n",
    "y_train = y_train_norm.reshape(200,1)"
   ]
  },
  {
   "cell_type": "markdown",
   "metadata": {},
   "source": [
    "5. Set up the ANN machine learning model to represent the relationship between the normalized electrode porosities and the battery areal capacity."
   ]
  },
  {
   "cell_type": "code",
   "execution_count": 7,
   "metadata": {},
   "outputs": [],
   "source": [
    "class ANN(nn.Module):\n",
    "    def __init__(self):\n",
    "        super(ANN, self).__init__()\n",
    "        #Define layers\n",
    "        self.layer1 = nn.Linear(2, 15) # Input layer (2 inputs) to first hidden layer (15 neurons)\n",
    "        self.layer2 = nn.Linear(15, 5) # First hidden layer (15 neurons) to second hidden layer (5 neurons)\n",
    "        self.layer3 = nn.Linear(5, 1) # Second hidden layer (5 neurons) to output layer (1 output)\n",
    "\n",
    "        #Define the activation function\n",
    "        self.relu = nn.ReLU()\n",
    "\n",
    "    def forward(self, x):\n",
    "        #Forward pass through the network\n",
    "        x = self.relu(self.layer1(x))\n",
    "        x = self.relu(self.layer2(x))\n",
    "        x = self.layer3(x)\n",
    "        return x"
   ]
  },
  {
   "cell_type": "code",
   "execution_count": 8,
   "metadata": {},
   "outputs": [],
   "source": [
    "# Instantiate the model\n",
    "model = ANN()\n",
    "\n",
    "# Define the loss function (Mean Squared Error for regression)\n",
    "criterion = nn.MSELoss()\n",
    "\n",
    "# Define the optimizer (Stochastic Gradient Descent)\n",
    "optimizer = optim.SGD(model.parameters(), lr=0.05)"
   ]
  },
  {
   "cell_type": "markdown",
   "metadata": {},
   "source": [
    "6. Train the ANN machine learning model."
   ]
  },
  {
   "cell_type": "code",
   "execution_count": 9,
   "metadata": {},
   "outputs": [
    {
     "name": "stdout",
     "output_type": "stream",
     "text": [
      "Epoch [100/20000], loss:0.0704\n",
      "Epoch [200/20000], loss:0.0684\n",
      "Epoch [300/20000], loss:0.0654\n",
      "Epoch [400/20000], loss:0.0609\n",
      "Epoch [500/20000], loss:0.0546\n",
      "Epoch [600/20000], loss:0.0473\n",
      "Epoch [700/20000], loss:0.0406\n",
      "Epoch [800/20000], loss:0.0354\n",
      "Epoch [900/20000], loss:0.0320\n",
      "Epoch [1000/20000], loss:0.0299\n",
      "Epoch [1100/20000], loss:0.0284\n",
      "Epoch [1200/20000], loss:0.0274\n",
      "Epoch [1300/20000], loss:0.0265\n",
      "Epoch [1400/20000], loss:0.0258\n",
      "Epoch [1500/20000], loss:0.0253\n",
      "Epoch [1600/20000], loss:0.0247\n",
      "Epoch [1700/20000], loss:0.0243\n",
      "Epoch [1800/20000], loss:0.0238\n",
      "Epoch [1900/20000], loss:0.0233\n",
      "Epoch [2000/20000], loss:0.0228\n",
      "Epoch [2100/20000], loss:0.0223\n",
      "Epoch [2200/20000], loss:0.0218\n",
      "Epoch [2300/20000], loss:0.0214\n",
      "Epoch [2400/20000], loss:0.0209\n",
      "Epoch [2500/20000], loss:0.0203\n",
      "Epoch [2600/20000], loss:0.0197\n",
      "Epoch [2700/20000], loss:0.0190\n",
      "Epoch [2800/20000], loss:0.0182\n",
      "Epoch [2900/20000], loss:0.0172\n",
      "Epoch [3000/20000], loss:0.0163\n",
      "Epoch [3100/20000], loss:0.0155\n",
      "Epoch [3200/20000], loss:0.0146\n",
      "Epoch [3300/20000], loss:0.0138\n",
      "Epoch [3400/20000], loss:0.0129\n",
      "Epoch [3500/20000], loss:0.0121\n",
      "Epoch [3600/20000], loss:0.0113\n",
      "Epoch [3700/20000], loss:0.0105\n",
      "Epoch [3800/20000], loss:0.0097\n",
      "Epoch [3900/20000], loss:0.0089\n",
      "Epoch [4000/20000], loss:0.0083\n",
      "Epoch [4100/20000], loss:0.0077\n",
      "Epoch [4200/20000], loss:0.0072\n",
      "Epoch [4300/20000], loss:0.0067\n",
      "Epoch [4400/20000], loss:0.0063\n",
      "Epoch [4500/20000], loss:0.0058\n",
      "Epoch [4600/20000], loss:0.0055\n",
      "Epoch [4700/20000], loss:0.0051\n",
      "Epoch [4800/20000], loss:0.0048\n",
      "Epoch [4900/20000], loss:0.0046\n",
      "Epoch [5000/20000], loss:0.0043\n",
      "Epoch [5100/20000], loss:0.0041\n",
      "Epoch [5200/20000], loss:0.0040\n",
      "Epoch [5300/20000], loss:0.0038\n",
      "Epoch [5400/20000], loss:0.0037\n",
      "Epoch [5500/20000], loss:0.0036\n",
      "Epoch [5600/20000], loss:0.0034\n",
      "Epoch [5700/20000], loss:0.0032\n",
      "Epoch [5800/20000], loss:0.0031\n",
      "Epoch [5900/20000], loss:0.0030\n",
      "Epoch [6000/20000], loss:0.0029\n",
      "Epoch [6100/20000], loss:0.0028\n",
      "Epoch [6200/20000], loss:0.0027\n",
      "Epoch [6300/20000], loss:0.0027\n",
      "Epoch [6400/20000], loss:0.0026\n",
      "Epoch [6500/20000], loss:0.0025\n",
      "Epoch [6600/20000], loss:0.0025\n",
      "Epoch [6700/20000], loss:0.0024\n",
      "Epoch [6800/20000], loss:0.0023\n",
      "Epoch [6900/20000], loss:0.0023\n",
      "Epoch [7000/20000], loss:0.0022\n",
      "Epoch [7100/20000], loss:0.0022\n",
      "Epoch [7200/20000], loss:0.0021\n",
      "Epoch [7300/20000], loss:0.0021\n",
      "Epoch [7400/20000], loss:0.0021\n",
      "Epoch [7500/20000], loss:0.0020\n",
      "Epoch [7600/20000], loss:0.0020\n",
      "Epoch [7700/20000], loss:0.0020\n",
      "Epoch [7800/20000], loss:0.0019\n",
      "Epoch [7900/20000], loss:0.0019\n",
      "Epoch [8000/20000], loss:0.0019\n",
      "Epoch [8100/20000], loss:0.0019\n",
      "Epoch [8200/20000], loss:0.0019\n",
      "Epoch [8300/20000], loss:0.0018\n",
      "Epoch [8400/20000], loss:0.0018\n",
      "Epoch [8500/20000], loss:0.0018\n",
      "Epoch [8600/20000], loss:0.0018\n",
      "Epoch [8700/20000], loss:0.0017\n",
      "Epoch [8800/20000], loss:0.0018\n",
      "Epoch [8900/20000], loss:0.0023\n",
      "Epoch [9000/20000], loss:0.0024\n",
      "Epoch [9100/20000], loss:0.0021\n",
      "Epoch [9200/20000], loss:0.0022\n",
      "Epoch [9300/20000], loss:0.0018\n",
      "Epoch [9400/20000], loss:0.0016\n",
      "Epoch [9500/20000], loss:0.0019\n",
      "Epoch [9600/20000], loss:0.0024\n",
      "Epoch [9700/20000], loss:0.0023\n",
      "Epoch [9800/20000], loss:0.0024\n",
      "Epoch [9900/20000], loss:0.0023\n",
      "Epoch [10000/20000], loss:0.0020\n",
      "Epoch [10100/20000], loss:0.0020\n",
      "Epoch [10200/20000], loss:0.0019\n",
      "Epoch [10300/20000], loss:0.0018\n",
      "Epoch [10400/20000], loss:0.0017\n",
      "Epoch [10500/20000], loss:0.0017\n",
      "Epoch [10600/20000], loss:0.0018\n",
      "Epoch [10700/20000], loss:0.0018\n",
      "Epoch [10800/20000], loss:0.0018\n",
      "Epoch [10900/20000], loss:0.0017\n",
      "Epoch [11000/20000], loss:0.0016\n",
      "Epoch [11100/20000], loss:0.0016\n",
      "Epoch [11200/20000], loss:0.0016\n",
      "Epoch [11300/20000], loss:0.0016\n",
      "Epoch [11400/20000], loss:0.0017\n",
      "Epoch [11500/20000], loss:0.0016\n",
      "Epoch [11600/20000], loss:0.0016\n",
      "Epoch [11700/20000], loss:0.0015\n",
      "Epoch [11800/20000], loss:0.0013\n",
      "Epoch [11900/20000], loss:0.0013\n",
      "Epoch [12000/20000], loss:0.0013\n",
      "Epoch [12100/20000], loss:0.0013\n",
      "Epoch [12200/20000], loss:0.0013\n",
      "Epoch [12300/20000], loss:0.0013\n",
      "Epoch [12400/20000], loss:0.0013\n",
      "Epoch [12500/20000], loss:0.0012\n",
      "Epoch [12600/20000], loss:0.0013\n",
      "Epoch [12700/20000], loss:0.0013\n",
      "Epoch [12800/20000], loss:0.0013\n",
      "Epoch [12900/20000], loss:0.0013\n",
      "Epoch [13000/20000], loss:0.0014\n",
      "Epoch [13100/20000], loss:0.0014\n",
      "Epoch [13200/20000], loss:0.0014\n",
      "Epoch [13300/20000], loss:0.0014\n",
      "Epoch [13400/20000], loss:0.0014\n",
      "Epoch [13500/20000], loss:0.0013\n",
      "Epoch [13600/20000], loss:0.0012\n",
      "Epoch [13700/20000], loss:0.0012\n",
      "Epoch [13800/20000], loss:0.0012\n",
      "Epoch [13900/20000], loss:0.0012\n",
      "Epoch [14000/20000], loss:0.0012\n",
      "Epoch [14100/20000], loss:0.0012\n",
      "Epoch [14200/20000], loss:0.0014\n",
      "Epoch [14300/20000], loss:0.0019\n",
      "Epoch [14400/20000], loss:0.0019\n",
      "Epoch [14500/20000], loss:0.0013\n",
      "Epoch [14600/20000], loss:0.0012\n",
      "Epoch [14700/20000], loss:0.0013\n",
      "Epoch [14800/20000], loss:0.0013\n",
      "Epoch [14900/20000], loss:0.0013\n",
      "Epoch [15000/20000], loss:0.0013\n",
      "Epoch [15100/20000], loss:0.0013\n",
      "Epoch [15200/20000], loss:0.0013\n",
      "Epoch [15300/20000], loss:0.0013\n",
      "Epoch [15400/20000], loss:0.0014\n",
      "Epoch [15500/20000], loss:0.0014\n",
      "Epoch [15600/20000], loss:0.0014\n",
      "Epoch [15700/20000], loss:0.0014\n",
      "Epoch [15800/20000], loss:0.0015\n",
      "Epoch [15900/20000], loss:0.0015\n",
      "Epoch [16000/20000], loss:0.0013\n",
      "Epoch [16100/20000], loss:0.0012\n",
      "Epoch [16200/20000], loss:0.0012\n",
      "Epoch [16300/20000], loss:0.0012\n",
      "Epoch [16400/20000], loss:0.0012\n",
      "Epoch [16500/20000], loss:0.0012\n",
      "Epoch [16600/20000], loss:0.0012\n",
      "Epoch [16700/20000], loss:0.0012\n",
      "Epoch [16800/20000], loss:0.0013\n",
      "Epoch [16900/20000], loss:0.0012\n",
      "Epoch [17000/20000], loss:0.0012\n",
      "Epoch [17100/20000], loss:0.0012\n",
      "Epoch [17200/20000], loss:0.0012\n",
      "Epoch [17300/20000], loss:0.0012\n",
      "Epoch [17400/20000], loss:0.0012\n",
      "Epoch [17500/20000], loss:0.0012\n",
      "Epoch [17600/20000], loss:0.0012\n",
      "Epoch [17700/20000], loss:0.0012\n",
      "Epoch [17800/20000], loss:0.0012\n",
      "Epoch [17900/20000], loss:0.0012\n",
      "Epoch [18000/20000], loss:0.0012\n",
      "Epoch [18100/20000], loss:0.0011\n",
      "Epoch [18200/20000], loss:0.0011\n",
      "Epoch [18300/20000], loss:0.0011\n",
      "Epoch [18400/20000], loss:0.0011\n",
      "Epoch [18500/20000], loss:0.0011\n",
      "Epoch [18600/20000], loss:0.0011\n",
      "Epoch [18700/20000], loss:0.0011\n",
      "Epoch [18800/20000], loss:0.0011\n",
      "Epoch [18900/20000], loss:0.0011\n",
      "Epoch [19000/20000], loss:0.0011\n",
      "Epoch [19100/20000], loss:0.0011\n",
      "Epoch [19200/20000], loss:0.0011\n",
      "Epoch [19300/20000], loss:0.0011\n",
      "Epoch [19400/20000], loss:0.0012\n",
      "Epoch [19500/20000], loss:0.0011\n",
      "Epoch [19600/20000], loss:0.0012\n",
      "Epoch [19700/20000], loss:0.0011\n",
      "Epoch [19800/20000], loss:0.0013\n",
      "Epoch [19900/20000], loss:0.0012\n",
      "Epoch [20000/20000], loss:0.0012\n"
     ]
    }
   ],
   "source": [
    "# Number of epochs for training\n",
    "num_epochs = 20000\n",
    "\n",
    "for epoch in range(num_epochs):\n",
    "    # Forward pass: compute the model output\n",
    "    outputs = model(X_train)\n",
    "\n",
    "    # Compute the loss\n",
    "    loss = criterion(outputs, y_train)\n",
    "\n",
    "    # Backward pass: compute the gradients\n",
    "    optimizer.zero_grad()\n",
    "    loss.backward()\n",
    "\n",
    "    # Update the weights\n",
    "    optimizer.step()\n",
    "\n",
    "    # Print the loss every 100 epochs\n",
    "    if (epoch+1)%100==0:\n",
    "        print(f'Epoch [{epoch+1}/{num_epochs}], loss:{loss.item():.4f}')"
   ]
  },
  {
   "cell_type": "markdown",
   "metadata": {},
   "source": [
    "7. Set up a gradient-based optimization algorithm to optimize the electrode porosities for achieving the highest battery areal capacity after fast charging, based on the trained ANN surrogate model. Specifically, ensure that the values of the two normalized design variables are within the range [0, 1]."
   ]
  },
  {
   "cell_type": "code",
   "execution_count": 13,
   "metadata": {},
   "outputs": [
    {
     "name": "stdout",
     "output_type": "stream",
     "text": [
      "Step 1: x = [0.21186022 0.31719613], Loss = -0.1302674114704132\n",
      "Step 2: x = [0.22778958 0.3513925 ], Loss = -0.33305492997169495\n",
      "Step 3: x = [0.24371894 0.38558888], Loss = -0.4753686487674713\n",
      "Step 4: x = [0.2596483  0.41978526], Loss = -0.6176823377609253\n",
      "Step 5: x = [0.27557766 0.45398164], Loss = -0.7599959373474121\n",
      "Step 6: x = [0.29150704 0.488178  ], Loss = -0.9023096561431885\n",
      "Step 7: x = [0.31833115 0.49045348], Loss = -1.0122780799865723\n",
      "Step 8: x = [0.331884   0.47952017], Loss = -1.0754508972167969\n",
      "Step 9: x = [0.32514885 0.5025767 ], Loss = -1.0722769498825073\n",
      "Step 10: x = [0.3387017 0.4916434], Loss = -1.0714361667633057\n",
      "Step 11: x = [0.34339097 0.5066797 ], Loss = -1.0952407121658325\n",
      "Step 12: x = [0.35694382 0.4957464 ], Loss = -1.091673493385315\n",
      "Step 13: x = [0.35020867 0.51880294], Loss = -1.092810869216919\n",
      "Step 14: x = [0.3637615 0.5078696], Loss = -1.0876585245132446\n",
      "Step 15: x = [0.36588994 0.50495654], Loss = -1.102761149406433\n",
      "Step 16: x = [0.36801836 0.5020435 ], Loss = -1.1040626764297485\n",
      "Step 17: x = [0.3612832  0.52510005], Loss = -1.0998709201812744\n",
      "Step 18: x = [0.37483606 0.5141667 ], Loss = -1.0957828760147095\n",
      "Step 19: x = [0.37696448 0.51125365], Loss = -1.1032837629318237\n",
      "Step 20: x = [0.3790929 0.5083406], Loss = -1.1045856475830078\n",
      "Step 21: x = [0.38122132 0.50542754], Loss = -1.1058870553970337\n",
      "Step 22: x = [0.37448618 0.5284841 ], Loss = -1.0987811088562012\n",
      "Step 23: x = [0.3766146  0.52557105], Loss = -1.0990387201309204\n",
      "Step 24: x = [0.37874302 0.522658  ], Loss = -1.1003402471542358\n",
      "Step 25: x = [0.38087144 0.51974493], Loss = -1.1016417741775513\n",
      "Step 26: x = [0.38299987 0.5168319 ], Loss = -1.1029434204101562\n",
      "Step 27: x = [0.3851283 0.5139188], Loss = -1.1042450666427612\n",
      "Step 28: x = [0.3872567  0.51100576], Loss = -1.1055465936660767\n",
      "Step 29: x = [0.38938513 0.5080927 ], Loss = -1.1068483591079712\n",
      "Step 30: x = [0.38265    0.53114927], Loss = -1.0994277000427246\n",
      "Step 31: x = [0.3847784 0.5282362], Loss = -1.0999999046325684\n",
      "Step 32: x = [0.38690683 0.52532315], Loss = -1.1013015508651733\n",
      "Step 33: x = [0.38903525 0.5224101 ], Loss = -1.1026030778884888\n",
      "Step 34: x = [0.39116368 0.51949704], Loss = -1.1039044857025146\n",
      "Step 35: x = [0.3932921 0.516584 ], Loss = -1.1052063703536987\n",
      "Step 36: x = [0.39542052 0.5136709 ], Loss = -1.1065078973770142\n",
      "Step 37: x = [0.39754894 0.51075786], Loss = -1.1078096628189087\n",
      "Step 38: x = [0.3908138  0.53381443], Loss = -1.1000741720199585\n",
      "Step 39: x = [0.3880694 0.50678  ], Loss = -1.0992701053619385\n",
      "Step 40: x = [0.38133425 0.5298366 ], Loss = -1.0972871780395508\n",
      "Step 41: x = [0.38346267 0.52692354], Loss = -1.100102186203003\n",
      "Step 42: x = [0.3855911 0.5240105], Loss = -1.1014039516448975\n",
      "Step 43: x = [0.3877195 0.5210974], Loss = -1.1027053594589233\n",
      "Step 44: x = [0.38984793 0.51818436], Loss = -1.1040070056915283\n",
      "Step 45: x = [0.39197636 0.5152713 ], Loss = -1.1053086519241333\n",
      "Step 46: x = [0.39410478 0.51235825], Loss = -1.1066102981567383\n",
      "Step 47: x = [0.38736963 0.5354148 ], Loss = -1.1060837507247925\n",
      "Step 48: x = [0.38462523 0.5083804 ], Loss = -1.095888614654541\n",
      "Step 49: x = [0.37789008 0.531437  ], Loss = -1.1032968759536743\n",
      "Step 50: x = [0.3800185 0.5285239], Loss = -1.098902940750122\n",
      "Step 51: x = [0.38214692 0.52561086], Loss = -1.100204586982727\n",
      "Step 52: x = [0.38427535 0.5226978 ], Loss = -1.1015061140060425\n",
      "Step 53: x = [0.38640377 0.51978475], Loss = -1.102807879447937\n",
      "Step 54: x = [0.3885322 0.5168717], Loss = -1.1041094064712524\n",
      "Step 55: x = [0.3906606  0.51395863], Loss = -1.1054109334945679\n",
      "Step 56: x = [0.39278904 0.5110456 ], Loss = -1.1067124605178833\n",
      "Step 57: x = [0.3860539  0.53410214], Loss = -1.1039432287216187\n",
      "Step 58: x = [0.38330948 0.50706774], Loss = -1.099798560142517\n",
      "Step 59: x = [0.37657434 0.5301243 ], Loss = -1.10115647315979\n",
      "Step 60: x = [0.37870276 0.52721125], Loss = -1.0990053415298462\n",
      "Step 61: x = [0.38083118 0.5242982 ], Loss = -1.100306749343872\n",
      "Step 62: x = [0.3829596  0.52138513], Loss = -1.1016086339950562\n",
      "Step 63: x = [0.38508803 0.5184721 ], Loss = -1.1029101610183716\n",
      "Step 64: x = [0.38721645 0.515559  ], Loss = -1.104211688041687\n",
      "Step 65: x = [0.38934487 0.51264596], Loss = -1.105513334274292\n",
      "Step 66: x = [0.3914733 0.5097329], Loss = -1.1068150997161865\n",
      "Step 67: x = [0.38473815 0.53278947], Loss = -1.101802945137024\n",
      "Step 68: x = [0.38686657 0.5298764 ], Loss = -1.0999665260314941\n",
      "Step 69: x = [0.388995   0.52696335], Loss = -1.1012680530548096\n",
      "Step 70: x = [0.3911234 0.5240503], Loss = -1.1025696992874146\n",
      "Step 71: x = [0.39325184 0.52113724], Loss = -1.1038713455200195\n",
      "Step 72: x = [0.39538026 0.5182242 ], Loss = -1.105173110961914\n",
      "Step 73: x = [0.39750868 0.5153111 ], Loss = -1.10647451877594\n",
      "Step 74: x = [0.3996371  0.51239806], Loss = -1.107776165008545\n",
      "Step 75: x = [0.39290196 0.53545463], Loss = -1.1024495363235474\n",
      "Step 76: x = [0.39015755 0.5084202 ], Loss = -1.094262719154358\n",
      "Step 77: x = [0.3834224 0.5314768], Loss = -1.0996625423431396\n",
      "Step 78: x = [0.38555083 0.52856374], Loss = -1.1000686883926392\n",
      "Step 79: x = [0.38767925 0.5256507 ], Loss = -1.1013704538345337\n",
      "Step 80: x = [0.38980767 0.5227376 ], Loss = -1.1026719808578491\n",
      "Step 81: x = [0.3919361  0.51982456], Loss = -1.1039735078811646\n",
      "Step 82: x = [0.39406452 0.5169115 ], Loss = -1.105275273323059\n",
      "Step 83: x = [0.39619294 0.51399845], Loss = -1.106576919555664\n",
      "Step 84: x = [0.39832136 0.5110854 ], Loss = -1.107878565788269\n",
      "Step 85: x = [0.3915862  0.53414196], Loss = -1.1003090143203735\n",
      "Step 86: x = [0.3888418  0.50710756], Loss = -1.098172664642334\n",
      "Step 87: x = [0.38210666 0.5301641 ], Loss = -1.0975221395492554\n",
      "Step 88: x = [0.38423508 0.52725106], Loss = -1.1001712083816528\n",
      "Step 89: x = [0.3863635 0.524338 ], Loss = -1.1014728546142578\n",
      "Step 90: x = [0.38849193 0.52142495], Loss = -1.1027743816375732\n",
      "Step 91: x = [0.39062035 0.5185119 ], Loss = -1.1040760278701782\n",
      "Step 92: x = [0.39274877 0.51559883], Loss = -1.1053776741027832\n",
      "Step 93: x = [0.3948772 0.5126858], Loss = -1.1066792011260986\n",
      "Step 94: x = [0.38814205 0.53574234], Loss = -1.1063185930252075\n",
      "Step 95: x = [0.38539764 0.50870794], Loss = -1.0947914123535156\n",
      "Step 96: x = [0.3786625 0.5317645], Loss = -1.103531837463379\n",
      "Step 97: x = [0.38079092 0.52885145], Loss = -1.098971962928772\n",
      "Step 98: x = [0.38291934 0.5259384 ], Loss = -1.1002733707427979\n",
      "Step 99: x = [0.38504776 0.52302533], Loss = -1.1015751361846924\n",
      "Step 100: x = [0.3871762 0.5201123], Loss = -1.1028767824172974\n",
      "Optimized x: [0.3871762 0.5201123]\n",
      "Final Loss: 1.1041783094406128\n"
     ]
    }
   ],
   "source": [
    "# Define the function to optimize\n",
    "def objective_function(x):\n",
    "    tensor1 = x[0]    # 1 represents the anode porosity \n",
    "    tensor2 = x[1]    # 2 represents the cathode porosity\n",
    "    x_input = torch.stack((tensor1, tensor2), dim=0)\n",
    "    return model(x_input)\n",
    "\n",
    "# Initialize the inputs (parameters to optimize)\n",
    "val0 = torch.rand(1)    # an initial guess of anode porosity (normalized)\n",
    "val1 = torch.rand(1)    # an initial guess of cathode porosity (normalized)\n",
    "x = torch.tensor([val0, val1], requires_grad=True)\n",
    "\n",
    "# Define the optimizer (Stochastic Gradient Descent)\n",
    "optimizer = torch.optim.SGD([x], lr=0.01)  # lr is the learning rate\n",
    "\n",
    "# Number of optimization steps\n",
    "num_steps = 100\n",
    "\n",
    "# Lists to store the evolution of x[0], x[1], and loss\n",
    "x0_values = []\n",
    "x1_values = []\n",
    "\n",
    "# Optimization loop\n",
    "for step in range(num_steps):\n",
    "    # Zero the gradients from the previous step\n",
    "    optimizer.zero_grad()\n",
    "\n",
    "    # Compute the objective function\n",
    "    result = objective_function(x)\n",
    "    loss = -result[0]\n",
    "\n",
    "    # Compute the gradients (backward pass)\n",
    "    loss.backward()\n",
    "\n",
    "    # Update the parameters using the optimizer\n",
    "    optimizer.step()\n",
    "\n",
    "    # Apply the constraints to keep x[0] and x[1] within [0, 1]\n",
    "    with torch.no_grad():\n",
    "        x.clamp_(0, 1)  # In-place operation to clamp x within [0, 1]\n",
    "\n",
    "    # Store the current values of x[0], x[1], and loss\n",
    "    x0_values.append(x[0].item())\n",
    "    x1_values.append(x[1].item())\n",
    "\n",
    "    # Print the current value of the loss and parameters\n",
    "    print(f\"Step {step + 1}: x = {x.detach().numpy()}, Loss = {loss.item()}\")\n",
    "\n",
    "# Final optimized values\n",
    "print(f\"Optimized x: {x.detach().numpy()}\")\n",
    "print(f\"Final Loss: {objective_function(x).item()}\")"
   ]
  },
  {
   "cell_type": "markdown",
   "metadata": {},
   "source": [
    "8. Plot the evolution of the anode porosity, x[0], and the cathode porosity, x[1], throughout the optimization process."
   ]
  },
  {
   "cell_type": "code",
   "execution_count": 14,
   "metadata": {},
   "outputs": [
    {
     "data": {
      "image/png": "[encoded data removed]",
      "text/plain": [
       "<Figure size 800x600 with 1 Axes>"
      ]
     },
     "metadata": {},
     "output_type": "display_data"
    }
   ],
   "source": [
    "# Plotting the evolution of x[0] and x[1]\n",
    "plt.figure(figsize=(8, 6))\n",
    "plt.plot(x0_values, label='x[0]')\n",
    "plt.plot(x1_values, label='x[1]')\n",
    "plt.xlabel('Step')\n",
    "plt.ylabel('Value')\n",
    "plt.title('Evolution of x[0] and x[1]')\n",
    "plt.legend()\n",
    "plt.show()"
   ]
  },
  {
   "cell_type": "markdown",
   "metadata": {},
   "source": [
    "9. De-normalize the anode and cathode porosities, as well as the battery areal capacity, to return them to their original scale."
   ]
  },
  {
   "cell_type": "code",
   "execution_count": 17,
   "metadata": {},
   "outputs": [
    {
     "name": "stdout",
     "output_type": "stream",
     "text": [
      "Optimized result of anode porosity: 0.4248338043689728\n",
      "Optimized result of cathode porosity: 0.487179696559906\n",
      "Optimized battery areal capacity: 24.93080711364746\n"
     ]
    }
   ],
   "source": [
    "# define the de-normalization function\n",
    "def de_normalize_tensor(tensor, max_val, min_val):\n",
    "    return tensor * (max_val - min_val) + min_val\n",
    "    \n",
    "# de-normalize the porosity of anode and cathode\n",
    "value_real0 = de_normalize_tensor(x[0], max_epsneg, min_epsneg)\n",
    "print(f\"Optimized result of anode porosity: {value_real0}\")\n",
    "value_real1 = de_normalize_tensor(x[1], max_epspos, min_epspos)\n",
    "print(f\"Optimized result of cathode porosity: {value_real1}\")\n",
    "\n",
    "# de-normalize the capacity value (C/m^2)\n",
    "y = model(x)\n",
    "cap_optim = de_normalize_tensor(y[0], max_y, min_y)\n",
    "print(f\"Optimized battery areal capacity: {cap_optim}\")"
   ]
  }
 ],
 "metadata": {
  "kernelspec": {
   "display_name": "venv",
   "language": "python",
   "name": "python3"
  },
  "language_info": {
   "codemirror_mode": {
    "name": "ipython",
    "version": 3
   },
   "file_extension": ".py",
   "mimetype": "text/x-python",
   "name": "python",
   "nbconvert_exporter": "python",
   "pygments_lexer": "ipython3",
   "version": "3.12.7"
  }
 },
 "nbformat": 4,
 "nbformat_minor": 2
}
